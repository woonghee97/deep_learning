{
  "nbformat": 4,
  "nbformat_minor": 0,
  "metadata": {
    "coursera": {
      "course_slug": "neural-networks-deep-learning",
      "graded_item_id": "XaIWT",
      "launcher_item_id": "zAgPl"
    },
    "kernelspec": {
      "display_name": "Python 3",
      "language": "python",
      "name": "python3"
    },
    "language_info": {
      "codemirror_mode": {
        "name": "ipython",
        "version": 3
      },
      "file_extension": ".py",
      "mimetype": "text/x-python",
      "name": "python",
      "nbconvert_exporter": "python",
      "pygments_lexer": "ipython3",
      "version": "3.6.0"
    },
    "colab": {
      "name": "HW2.ipynb",
      "provenance": [],
      "collapsed_sections": [],
      "include_colab_link": true
    }
  },
  "cells": [
    {
      "cell_type": "markdown",
      "metadata": {
        "id": "view-in-github",
        "colab_type": "text"
      },
      "source": [
        "<a href=\"https://colab.research.google.com/github/woonghee97/deep_learning/blob/DeepLearning/HW2.ipynb\" target=\"_parent\"><img src=\"https://colab.research.google.com/assets/colab-badge.svg\" alt=\"Open In Colab\"/></a>"
      ]
    },
    {
      "cell_type": "markdown",
      "metadata": {
        "id": "9OA0f9oxYGYb"
      },
      "source": [
        "# HW#3 Perceptron & Logistic Regression\n",
        "\n",
        "안녕하세요, 광운대학교 로봇학부의 오정현 교수입니다. 본 자료는 딥러닝 실습 수업을 위해 제작된 것입니다.\n",
        "\n",
        "파이썬 문법\n",
        "- 점프투파이썬(https://wikidocs.net/book/1) 참고\n",
        "\n",
        "이번 과제는 Perceptron 및 Logstic regression 구현입니다.\n",
        "\n",
        "\n"
      ]
    },
    {
      "cell_type": "markdown",
      "metadata": {
        "id": "SpCJAuxtt3kK"
      },
      "source": [
        "#1. Perceptron Learning Algorithm\n",
        "Perceptron은 Linearly separable data를 Classification 할 수 있는 알고리즘입니다. 이번 파트에서는 Perceptron을 한번 구현해 봅시다."
      ]
    },
    {
      "cell_type": "markdown",
      "metadata": {
        "id": "bTsM8H8rYGYc"
      },
      "source": [
        "# 1.1 - Package import\n",
        "\n",
        "먼저 과제에 필요한 package를 import 합니다.\n",
        "- [numpy](www.numpy.org)는 파이썬에서 행렬 연산을 위한 핵심 라이브러리입니다.\n",
        "- [matplotlib](http://matplotlib.org) 파이썬에서 plot을 위한 라이브러리입니다."
      ]
    },
    {
      "cell_type": "code",
      "metadata": {
        "id": "zS7ADvk7eYmL"
      },
      "source": [
        "import numpy as np\n",
        "import matplotlib.pyplot as plt"
      ],
      "execution_count": 56,
      "outputs": []
    },
    {
      "cell_type": "markdown",
      "metadata": {
        "id": "ZTU1oUwNthHh"
      },
      "source": [
        "##1.2 - Linearly separable data generation\n",
        "2차원의 Linearly separable data인 X와 Label Y를 만들고 plot해보세요. Lineary separable이라는 말은 직선을 경계로 나눌 수 있다는 뜻입니다.\n",
        "\n",
        "\n",
        "1. 먼저 X를 만들어 봅시다. X는 2차원의 N개의 점으로 이루어져 있습니다.. 즉 X는 N x 2 차원의 행렬입니다. 본 문제에서는 $N=100$으로 가정합시다. `np.random.rand()` 함수를 이용하여 100 X 2 행렬인 X를 만들어 보세요.\n",
        "\n",
        "$$X=\\begin{bmatrix} x_1^{(1)}& x_2^{(1)}\\\\ x_1^{(2)}&x_2^{(2)} \\\\ \\vdots&\\vdots \\\\ x_1^{(N)}&x_2^{(N)}\\end{bmatrix}$$\n",
        "\n",
        "\n",
        "2. 이번에는 Label 정보를 가지고 있는 Y를 만들어보세요.  여기서는 $x_2=3x_1-1$이라는 선을 경계로 $x_2 > 3x_1-1$이면 1이라는 값을 갖고, 그렇지 않으면 -1이라는 값을 가지도록 합시다. N개의 data에 대한 라벨을 가지기 때문에 Y는 N x 1 차원의 행렬입니다. 이 문제에서는 100 x 1이 될 것입니다.\n",
        "\n",
        "$$Y=\\begin{bmatrix} y^{(1)}\\\\ y^{(2)}\\\\ \\vdots\\\\ y^{(N)}\\end{bmatrix}$$\n",
        "\n",
        "\n",
        "**Exercise:** X와 Y를 만들고 출력해보세요.\n"
      ]
    },
    {
      "cell_type": "code",
      "metadata": {
        "id": "V4BVu2Ghtev8"
      },
      "source": [
        "### START CODE HERE ###\n",
        "X = np.random.rand(100,2)\n",
        "Y = np.zeros((100,1))\n",
        "\n",
        "for i in range(len(X)):\n",
        "  if (X[i,1] > X[i,0]*3 - 1):\n",
        "    Y[i,0] = 1\n",
        "  else:\n",
        "    Y[i,0] = -1\n",
        "  \n",
        "### END CODE HERE ###\n",
        "assert X.shape==(100,2)\n",
        "assert Y.shape==(100,1)"
      ],
      "execution_count": 57,
      "outputs": []
    },
    {
      "cell_type": "code",
      "metadata": {
        "id": "9A-N_GmszgaB",
        "colab": {
          "base_uri": "https://localhost:8080/",
          "height": 297
        },
        "outputId": "76103e12-1954-414c-e5ac-02de3aef6e09"
      },
      "source": [
        "plt.scatter(X[:, 0], X[:, 1], c=Y, s=10, cmap=plt.cm.Paired)\n",
        "plt.xlabel('x1')\n",
        "plt.ylabel('x2')"
      ],
      "execution_count": 58,
      "outputs": [
        {
          "output_type": "execute_result",
          "data": {
            "text/plain": [
              "Text(0, 0.5, 'x2')"
            ]
          },
          "metadata": {
            "tags": []
          },
          "execution_count": 58
        },
        {
          "output_type": "display_data",
          "data": {
            "image/png": "[encoded data removed]",
            "text/plain": [
              "<Figure size 432x288 with 1 Axes>"
            ]
          },
          "metadata": {
            "tags": [],
            "needs_background": "light"
          }
        }
      ]
    },
    {
      "cell_type": "markdown",
      "metadata": {
        "id": "Hq63u_AC0fLL"
      },
      "source": [
        "##1.3 - Perceptron implementation\n",
        "`perceptron()` 함수를 구현해봅시다. \n",
        "먼저 수업 시간에 배웠듯이 편의상 모든 X 데이터에 $x_0=1$이 추가되어 있는 X_ones를 만들고 우리가 찾아야할 weight 행렬을 $w$라고 정의합니다. 따라서 X_ones의 차원은 N x 3이 될 것이고 $w=[w_0, w_1, w_2]$가 될 것입니다.\n",
        "\n",
        "\n",
        "perceptron은 다음과 같은 과정으로 weight를 찾아냅니다.\n",
        "\n",
        "> for each training case\n",
        "\n",
        ">&nbsp;&nbsp;&nbsp;&nbsp; $z^{(i)} = \\mathbf{w}^T\\mathbf{Xones}$\n",
        "\n",
        ">&nbsp;&nbsp;&nbsp;&nbsp;if $z^{(i)}*y^{(i)} \\leq 0$\n",
        "\n",
        ">&nbsp;&nbsp;&nbsp;&nbsp;&nbsp;&nbsp;&nbsp;&nbsp;$\\mathbf{w} = \\mathbf{w} + \\mathbf{Xones}^{(i)} * y^{(i)}$\n",
        "\n",
        "위 과정을 w가 변하지 않을 때까지 반복합니다. 본 과제에서는 편의상 충분히 큰 횟수인 100회를 반복하면 변하지 않는다고 가정하겠습니다.\n",
        "\n",
        "**Exercise:** Perceptron 알고리즘 구현해보세요.\n"
      ]
    },
    {
      "cell_type": "code",
      "metadata": {
        "id": "bF6sT0xOheB3"
      },
      "source": [
        "def perceptron(X,Y):\n",
        "  X_ones=np.concatenate((np.ones((100,1)),X), axis=1)\n",
        "  w=np.zeros(X_ones.shape[1])\n",
        "\n",
        "  epochs = 100\n",
        "  for ep in range(epochs):\n",
        "\n",
        "  ### START CODE HERE ###\n",
        "    z = np.dot(w.T, X_ones[ep,:])\n",
        "    if (z * Y[ep] <= 0):\n",
        "      w = w + X_ones[ep,:] * Y[ep]\n",
        "    \n",
        "  ### END CODE HERE ###\n",
        "\n",
        "  return w\n"
      ],
      "execution_count": 59,
      "outputs": []
    },
    {
      "cell_type": "code",
      "metadata": {
        "id": "taU6Hlmu54YN",
        "colab": {
          "base_uri": "https://localhost:8080/"
        },
        "outputId": "59e23203-2493-4a2c-b799-bfcd2ff4f589"
      },
      "source": [
        "w=perceptron(X,Y)\n",
        "assert w.shape[0]==3\n",
        "print(w)"
      ],
      "execution_count": 60,
      "outputs": [
        {
          "output_type": "stream",
          "text": [
            "[ 1.         -4.1249924   1.34704405]\n"
          ],
          "name": "stdout"
        }
      ]
    },
    {
      "cell_type": "markdown",
      "metadata": {
        "id": "MNMGI4xI_AXp"
      },
      "source": [
        "##1.4 - Visualization\n",
        "우리가 찾은 weight가 정말 data를 잘 구분하는지 살펴보겠습니다.\n",
        "$x_0=1$이기 때문에 prediction인 $z$는 다음과 같은 식을 만족합니다.\n",
        "\n",
        "$$z=w_0x_0+w_1x_1+w_2x_2=w_0+w_1x_1+w_2x_2$$\n",
        "\n",
        "이 때 z=0을 경계로 데이터가 나누어지기 때문에 $(x_1,x_2)$은 다음과 같은 식을 만족합니다.\n",
        "\n",
        "$$x_2 = -\\frac{w_1}{w_2}x_1-\\frac{w_0}{w_2} $$\n",
        "\n",
        "\n",
        "아래 코드를 실행하여 데이터가 잘 나누어지는지 살펴보세요."
      ]
    },
    {
      "cell_type": "code",
      "metadata": {
        "id": "wL7dSKu4gsuq",
        "colab": {
          "base_uri": "https://localhost:8080/",
          "height": 301
        },
        "outputId": "c382afa7-6051-4de7-a1b2-8a60743bbd43"
      },
      "source": [
        "plt.scatter(X[:, 0], X[:, 1], c=Y, s=10, cmap=plt.cm.Paired)\n",
        "plt.plot([0,1],[-w[0]/w[2],-w[0]/w[2]-w[1]/w[2]])\n",
        "plt.xlim((0,1))\n",
        "plt.ylim((0,1))\n",
        "plt.xlabel('x1')\n",
        "plt.ylabel('x2')"
      ],
      "execution_count": 61,
      "outputs": [
        {
          "output_type": "execute_result",
          "data": {
            "text/plain": [
              "Text(0, 0.5, 'x2')"
            ]
          },
          "metadata": {
            "tags": []
          },
          "execution_count": 61
        },
        {
          "output_type": "display_data",
          "data": {
            "image/png": "[encoded data removed]",
            "text/plain": [
              "<Figure size 432x288 with 1 Axes>"
            ]
          },
          "metadata": {
            "tags": [],
            "needs_background": "light"
          }
        }
      ]
    },
    {
      "cell_type": "markdown",
      "metadata": {
        "id": "SrSi9Cy7Ar4J"
      },
      "source": [
        "##1.5 (optional) Multi-class perceptron\n",
        "\n",
        "만약 class가 여러개일 때 perceptron으로 분류하려면 어떻게 해야 할까요?\n",
        "예를 들어 class label이 3가지인 경우, 즉 1,2,3인 경우를 생각해봅시다.\n",
        "\n",
        "첫번째 방법은 one vs rest 방법입니다.\n",
        "\n",
        "*   1번라벨 vs 2번라벨과 3번라벨  -> Perceptron -> Line1\n",
        "*   2번라벨 vs 1번라벨과 3번라벨  -> Perceptron -> Line2\n",
        "*   3번라벨 vs 1번라벨과 2번라벨  -> Perceptron -> Line3\n",
        "\n",
        "이렇게 Line 3개를 찾아서 그으면 3개의 클래스를 구분할 수 있습니다. \n",
        "\n",
        "두번째 방법으로는 one vs one 방법입니다.\n",
        "\n",
        "*   1번라벨 vs 2번라벨  -> Perceptron -> Line1\n",
        "*   2번라벨 vs 3번라벨  -> Perceptron -> Line2\n",
        "*   3번라벨 vs 1번라벨  -> Perceptron -> Line3\n",
        "\n",
        "이렇게 해서도 Line 3개를 찾을 수 있습니다.\n",
        "Label이 3개인 데이터를 만들어서 perceptron을 실행하여 데이터를 분류하고 plot해보세요.\n"
      ]
    },
    {
      "cell_type": "markdown",
      "metadata": {
        "id": "taYkeSZbMZnP"
      },
      "source": [
        "#2. Logistic Regression\n",
        "지난번 Linear regression을 구현했던 것처럼 이번에는 Logistic regression을 구현해봅시다."
      ]
    },
    {
      "cell_type": "markdown",
      "metadata": {
        "id": "QIH8-fDHnXjL"
      },
      "source": [
        "## 2.1 Data generation\n",
        "\n",
        "Logistic regression을 위한 데이터를 생성해봅시다. x가 5보다 작을때는 y 값이 0, 그렇지 않으면 y=1이 되도록 y를 만들어보세요. x의 데이터가 100개이므로 y의 shape가 (1,100)이 되도록 해보세요."
      ]
    },
    {
      "cell_type": "code",
      "metadata": {
        "id": "27mDrm4wnVd1",
        "colab": {
          "base_uri": "https://localhost:8080/",
          "height": 331
        },
        "outputId": "1088f7e9-ee19-463d-e2eb-e44ba13a0163"
      },
      "source": [
        "# 데이터 생성, x:input, y:target\n",
        "# y는 x가 5보다 작을때는 0, 5보다 클때는 1\n",
        "\n",
        "x = np.array([np.linspace(0, 10, 100)]) # 0부터 10까지 100개의 데이터를 생성합니다.\n",
        "\n",
        "### START CODE HERE ###\n",
        "y = np.zeros((1,len(x.T)))\n",
        "for i in range(len(x.T)):\n",
        "  if (x[0,i] <= 5) :\n",
        "    y[0,i] = 0\n",
        "  elif (x[0,i] > 5) :\n",
        "    y[0,i] = 1\n",
        "### END CODE HERE ###\n",
        "\n",
        "print (\"The shape of input data x: \" + str(x.shape))\n",
        "print (\"The shape of target data y: \" + str(y.shape))\n",
        "assert x.shape == (1,100)\n",
        "assert y.shape == (1,100)\n",
        "\n",
        "plt.scatter(x, y)\n",
        "plt.title('input vs target')\n",
        "plt.xlabel('x')\n",
        "plt.ylabel('y')\n",
        "plt.show()"
      ],
      "execution_count": 62,
      "outputs": [
        {
          "output_type": "stream",
          "text": [
            "The shape of input data x: (1, 100)\n",
            "The shape of target data y: (1, 100)\n"
          ],
          "name": "stdout"
        },
        {
          "output_type": "display_data",
          "data": {
            "image/png": "[encoded data removed]",
            "text/plain": [
              "<Figure size 432x288 with 1 Axes>"
            ]
          },
          "metadata": {
            "tags": [],
            "needs_background": "light"
          }
        }
      ]
    },
    {
      "cell_type": "markdown",
      "metadata": {
        "id": "0BWajp8gHAy7"
      },
      "source": [
        "##2.2 Sigmoid function\n",
        "`sigmoid()` 함수를 구현해보세요. S자 형태로 나타나는 이 곡선은 다음과 같은 식을 만족합니다.\n",
        "\n",
        "$$sigmoid(z) = \\frac{1}{1 + e^{-z}}$$\n",
        "\n",
        "np.exp()를 이용하여 만들어보세요."
      ]
    },
    {
      "cell_type": "code",
      "metadata": {
        "id": "BUGvbn0gG-qd",
        "colab": {
          "base_uri": "https://localhost:8080/",
          "height": 297
        },
        "outputId": "fcf2cd66-047b-41cb-89d6-b551e4f42b1d"
      },
      "source": [
        "def sigmoid(z):\n",
        "    \"\"\"\n",
        "    Compute the sigmoid of z\n",
        "\n",
        "    Arguments:\n",
        "    z -- A scalar or numpy array of any size.\n",
        "\n",
        "    Return:\n",
        "    s -- sigmoid(z)\n",
        "    \"\"\"\n",
        "\n",
        "    ### START CODE HERE ### (≈ 1 line of code)\n",
        "    s = 1 / (1 + np.exp(-z))\n",
        "    ### END CODE HERE ###\n",
        "    \n",
        "    return s\n",
        "\n",
        "z = np.array([np.linspace(-5, 5, 100)]) # 0부터 10까지 100개의 데이터를 생성합니다.\n",
        "plt.scatter(z, sigmoid(z), s=10, cmap=plt.cm.Paired)\n",
        "plt.xlabel('z')\n",
        "plt.ylabel('sigmoiod(z)')"
      ],
      "execution_count": 63,
      "outputs": [
        {
          "output_type": "execute_result",
          "data": {
            "text/plain": [
              "Text(0, 0.5, 'sigmoiod(z)')"
            ]
          },
          "metadata": {
            "tags": []
          },
          "execution_count": 63
        },
        {
          "output_type": "display_data",
          "data": {
            "image/png": "[encoded data removed]",
            "text/plain": [
              "<Figure size 432x288 with 1 Axes>"
            ]
          },
          "metadata": {
            "tags": [],
            "needs_background": "light"
          }
        }
      ]
    },
    {
      "cell_type": "code",
      "metadata": {
        "id": "O_RS_uXhNQHT",
        "colab": {
          "base_uri": "https://localhost:8080/"
        },
        "outputId": "dca3a542-afba-47b0-882e-833dcbe85f9d"
      },
      "source": [
        "print (\"sigmoid([0, 2]) = \" + str(sigmoid(np.array([0,2]))))"
      ],
      "execution_count": 64,
      "outputs": [
        {
          "output_type": "stream",
          "text": [
            "sigmoid([0, 2]) = [0.5        0.88079708]\n"
          ],
          "name": "stdout"
        }
      ]
    },
    {
      "cell_type": "markdown",
      "metadata": {
        "id": "AM7anM1SNXdN"
      },
      "source": [
        "**Expected Output**: \n",
        "\n",
        "sigmoid([0, 2]) = [0.5        0.88079708]"
      ]
    },
    {
      "cell_type": "markdown",
      "metadata": {
        "id": "KmzwQIX90COw"
      },
      "source": [
        "## 2.3 - General Architecture of the learning algorithm ##\n",
        "\n",
        "Logistic regression을 구하기 위해서 우리의 hypothesis는 다음과 같은 식을 만족합니다.\n",
        "\n",
        "$$z^{(i)} = w x^{(i)} + b \\tag{1}$$\n",
        "$$\\hat y^{(i)}=sigmoid(z^{(i)})\\tag{2}$$\n",
        "$$ \\mathcal{L}(\\hat y^{(i)}, y^{(i)}) =  - y^{(i)}  \\log(\\hat y^{(i)}) - (1-y^{(i)} )  \\log(1-\\hat y^{(i)})\\tag{3}$$\n",
        "\n",
        "마지막으로 전체 데이터 m개에 대한 cost function은 (4)과 같이 정의됩니다.\n",
        "\n",
        "$$ J = \\frac{1}{m} \\sum_{i=1}^m \\mathcal{L}(\\hat y^{(i)}, y^{(i)})\\tag{4}$$\n",
        "\n",
        "최종적으로 이 cost function의 값을 최소화하는 $w$와 $b$를 찾는 것이 우리의 목표가 되는 것입니다.\n"
      ]
    },
    {
      "cell_type": "markdown",
      "metadata": {
        "id": "V5_dlPQB3nVy"
      },
      "source": [
        "## 2.4 - Gradient descent algorithm ## \n",
        "Gradient descent algorithm은 다음과 같은 단계로 구현합니다.\n",
        "\n",
        "1. Parameter 초기화 `initialize_with_zeros()`\n",
        "2. Loop (최적화 과정): `optimize()`\n",
        "    - 현재 cost 계산(forward propagation) 및 현재 gradient를 계산 (backward propagation) : `propagate()`\n",
        "    - Parameter 업데이트(gradient descent)\n",
        "\n",
        "이 모든 과정을 합쳐서 `model()` 함수로 구현합니다."
      ]
    },
    {
      "cell_type": "markdown",
      "metadata": {
        "id": "moDDgNLZYGYy"
      },
      "source": [
        "### 2.4.1 - Parameter 초기화\n",
        "**Exercise:** 아래 Parameter 초기화 함수를 구현하세요. $w$의 경우 0으로 이루어진 벡터이고 $b$의 경우 스칼라값 0으로 초기화하세요. np.zeros() 함수를 참고하세요."
      ]
    },
    {
      "cell_type": "code",
      "metadata": {
        "id": "XikWAeG-YGYy"
      },
      "source": [
        "# GRADED FUNCTION: initialize_with_zeros\n",
        "\n",
        "def initialize_with_zeros(dim):\n",
        "    \"\"\"\n",
        "    This function creates a vector of zeros of shape (dim, 1) for w and initializes b to 0.\n",
        "    \n",
        "    Argument:\n",
        "    dim -- size of the w vector we want (or number of parameters in this case)\n",
        "    \n",
        "    Returns:\n",
        "    w -- initialized vector of shape (dim, 1)\n",
        "    b -- initialized scalar (corresponds to the bias)\n",
        "    \"\"\"\n",
        "    \n",
        "    ### START CODE HERE ###\n",
        "    w = np.zeros((dim,1))\n",
        "    b = 0\n",
        "    ### END CODE HERE ###\n",
        "\n",
        "    assert(w.shape == (dim, 1))\n",
        "    assert(isinstance(b, float) or isinstance(b, int))\n",
        "    \n",
        "    return w, b"
      ],
      "execution_count": 65,
      "outputs": []
    },
    {
      "cell_type": "code",
      "metadata": {
        "id": "i5DBP7arYGY0",
        "colab": {
          "base_uri": "https://localhost:8080/"
        },
        "outputId": "391e1fa9-77f3-4106-e762-60f644c82cba"
      },
      "source": [
        "dim = 2\n",
        "w, b = initialize_with_zeros(dim)\n",
        "print (\"w = \" + str(w))\n",
        "print (\"b = \" + str(b))"
      ],
      "execution_count": 66,
      "outputs": [
        {
          "output_type": "stream",
          "text": [
            "w = [[0.]\n",
            " [0.]]\n",
            "b = 0\n"
          ],
          "name": "stdout"
        }
      ]
    },
    {
      "cell_type": "markdown",
      "metadata": {
        "id": "FLalNrcVYGY1"
      },
      "source": [
        "**Expected Output**: \n",
        "\n",
        "\n",
        "w = [[0.]\\\n",
        "     [0.]]\n",
        "\n",
        "b = 0"
      ]
    },
    {
      "cell_type": "markdown",
      "metadata": {
        "id": "iMXQly9FEHXQ"
      },
      "source": [
        "### 2.4.2 - Forward and Backward propagation\n",
        "**Exercise:** cost값 및 gradient를 계산하는 `propagate()` 함수를 구현하세요.\n",
        "\n",
        "**Hints**:\n",
        "\n",
        "Forward Propagation:\n",
        "- X를 인수로 받는다.\n",
        "- (1), (2), (3)을 합쳐서 전개하면 다음과 같은 cost function 식이 나온다.\n",
        "$$ J = -\\frac{1}{m} \\sum_{i=1}^m (y^{(i)}  \\log(\\hat y^{(i)}) + (1-y^{(i)} )  \\log(1-\\hat y^{(i)}))\\tag{5}$$\n",
        "\n",
        "Backward Propagation:\n",
        "- w와 b의 gradient를 행렬 형태로 쓰면 다음과 같다.\n",
        "\n",
        "$$ \\frac{\\partial J}{\\partial w} = \\frac{1}{m}X(w^TX+b-Y)^T\\tag{6}$$\n",
        "\\\n",
        "$$ \\frac{\\partial J}{\\partial b} = \\frac{1}{m} \\ np.sum [w^TX+b-Y]\\tag{7}$$\n"
      ]
    },
    {
      "cell_type": "code",
      "metadata": {
        "id": "n96tROQaYGY2"
      },
      "source": [
        "# GRADED FUNCTION: propagate\n",
        "\n",
        "def propagate(w, b, X, Y):\n",
        "    \"\"\"\n",
        "    Implement the cost function and its gradient for the propagation explained above\n",
        "\n",
        "    Arguments:\n",
        "    w -- weights, a numpy array of size (dim, 1)\n",
        "    b -- bias, a scalar\n",
        "    X -- data of size (dim, number of examples)\n",
        "    Y -- true \"label\" vector (containing 0 or 1) of size (1, number of examples)\n",
        "\n",
        "    Return:\n",
        "    cost -- negative log-likelihood cost for logistic regression\n",
        "    dw -- gradient of the loss with respect to w, thus same shape as w\n",
        "    db -- gradient of the loss with respect to b, thus same shape as b\n",
        "    \n",
        "    Tips:\n",
        "    - Write your code step by step for the propagation. np.log(), np.dot()\n",
        "    \"\"\"\n",
        "    \n",
        "    m = X.shape[1]\n",
        "    \n",
        "    # FORWARD PROPAGATION (FROM X TO COST)\n",
        "    ### START CODE HERE ###\n",
        "    z = np.dot(w.T, X) + b\n",
        "    s = sigmoid(z)\n",
        "    l = -np.dot(Y,np.log(s).T) - np.dot(1-Y,np.log(1-s).T)\n",
        "    cost = l/m\n",
        "    ### END CODE HERE ###\n",
        "    \n",
        "    # BACKWARD PROPAGATION (TO FIND GRAD)\n",
        "    ### START CODE HERE ###\n",
        "    dw = np.dot(X,(s-Y).T) / m\n",
        "    db = np.sum(s-Y) / m\n",
        "    ### END CODE HERE ###\n",
        "\n",
        "    assert(dw.shape == w.shape)\n",
        "    assert(db.dtype == float)\n",
        "    cost = np.squeeze(cost)\n",
        "    assert(cost.shape == ())\n",
        "    \n",
        "    grads = {\"dw\": dw,\n",
        "             \"db\": db}\n",
        "    \n",
        "    return grads, cost"
      ],
      "execution_count": 67,
      "outputs": []
    },
    {
      "cell_type": "code",
      "metadata": {
        "id": "GPB8LQloIY9K",
        "outputId": "fbd2881a-547a-4d62-9222-0247bee6ee02",
        "colab": {
          "base_uri": "https://localhost:8080/"
        }
      },
      "source": [
        "w, b, X, Y = np.array([[1.],[2.]]), 2., np.array([[1.,2.,-1.],[3.,4.,-3.2]]), np.array([[1,0,1]])\n",
        "grads, cost = propagate(w, b, X, Y)\n",
        "print (\"dw = \" + str(grads[\"dw\"]))\n",
        "print (\"db = \" + str(grads[\"db\"]))\n",
        "print (\"cost = \" + str(cost))"
      ],
      "execution_count": 68,
      "outputs": [
        {
          "output_type": "stream",
          "text": [
            "dw = [[0.99845601]\n",
            " [2.39507239]]\n",
            "db = 0.001455578136784208\n",
            "cost = 5.801545319394553\n"
          ],
          "name": "stdout"
        }
      ]
    },
    {
      "cell_type": "markdown",
      "metadata": {
        "id": "G8sM3At2YGY5"
      },
      "source": [
        "**Expected Output**:\n",
        "\n",
        "dw = [[0.99845601]\n",
        " [2.39507239]]\n",
        "\n",
        "db = 0.001455578136784208\n",
        "\n",
        "cost = 5.801545319394553"
      ]
    },
    {
      "cell_type": "markdown",
      "metadata": {
        "id": "Kbai8qmgJZrm"
      },
      "source": [
        "### 2.4.3 - Optimization\n",
        "현재 parameter에 새로운 parameter를 업데이트하는 함수 `optimize()` 함수를 구현하세요.\n",
        "\n",
        "**Exercise:** 우리의 parameter $w$와 $b$를 업데이트하는 식을 구현해야 합니다. paramter를 $\\theta$라고 할 때, 업데이트 규칙은 $ \\theta = \\theta - \\alpha \\text{ } d\\theta$로 정의됩니다. 이 때 $\\alpha$를 learning rate라고 합니다."
      ]
    },
    {
      "cell_type": "code",
      "metadata": {
        "id": "BmJ1gtbXYGY5"
      },
      "source": [
        "# GRADED FUNCTION: optimize\n",
        "\n",
        "def optimize(w, b, X, Y, num_iterations, learning_rate, print_cost = False):\n",
        "    \"\"\"\n",
        "    This function optimizes w and b by running a gradient descent algorithm\n",
        "    \n",
        "    Arguments:\n",
        "    w -- weights, a numpy array of size (dim, 1)\n",
        "    b -- bias, a scalar\n",
        "    X -- data of shape (dim, number of examples)\n",
        "    Y -- true \"label\" vector (containing 0 or 1), of shape (1, number of examples)\n",
        "    num_iterations -- number of iterations of the optimization loop\n",
        "    learning_rate -- learning rate of the gradient descent update rule\n",
        "    print_cost -- True to print the loss every 100 steps\n",
        "    \n",
        "    Returns:\n",
        "    params -- dictionary containing the weights w and bias b\n",
        "    grads -- dictionary containing the gradients of the weights and bias with respect to the cost function\n",
        "    costs -- list of all the costs computed during the optimization, this will be used to plot the learning curve.\n",
        "    \n",
        "    Tips:\n",
        "    You basically need to write down two steps and iterate through them:\n",
        "        1) Calculate the cost and the gradient for the current parameters. Use propagate().\n",
        "        2) Update the parameters using gradient descent rule for w and b.\n",
        "    \"\"\"\n",
        "    \n",
        "    costs = []\n",
        "    \n",
        "    for i in range(num_iterations):\n",
        "        \n",
        "        \n",
        "        # Cost and gradient calculation\n",
        "        ### START CODE HERE ### \n",
        "        grads, cost = propagate(w, b, X, Y)\n",
        "        ### END CODE HERE ###\n",
        "        \n",
        "        # Retrieve derivatives from grads\n",
        "        dw = grads[\"dw\"]\n",
        "        db = grads[\"db\"]\n",
        "        \n",
        "        # update rule\n",
        "        ### START CODE HERE ###\n",
        "        w = w - learning_rate * dw\n",
        "        b = b - learning_rate * db\n",
        "        ### END CODE HERE ###\n",
        "        \n",
        "        # Record the costs\n",
        "        costs.append(cost)\n",
        "        \n",
        "        # Print the cost every 100 training iterations\n",
        "        if print_cost and i % 100 == 0:\n",
        "            print (\"Cost after iteration %i: %f\" %(i, cost))\n",
        "    \n",
        "    params = {\"w\": w,\n",
        "              \"b\": b}\n",
        "    \n",
        "    grads = {\"dw\": dw,\n",
        "             \"db\": db}\n",
        "    \n",
        "    return params, grads, costs"
      ],
      "execution_count": 69,
      "outputs": []
    },
    {
      "cell_type": "code",
      "metadata": {
        "id": "Y0NA6YijYGY7",
        "outputId": "0743a046-8173-4126-ece1-81b7d8f6a591",
        "colab": {
          "base_uri": "https://localhost:8080/"
        }
      },
      "source": [
        "params, grads, costs = optimize(w, b, X, Y, num_iterations= 100, learning_rate = 0.009, print_cost = False)\n",
        "\n",
        "print (\"w = \" + str(params[\"w\"]))\n",
        "print (\"b = \" + str(params[\"b\"]))\n",
        "print (\"dw = \" + str(grads[\"dw\"]))\n",
        "print (\"db = \" + str(grads[\"db\"]))"
      ],
      "execution_count": 70,
      "outputs": [
        {
          "output_type": "stream",
          "text": [
            "w = [[0.19033591]\n",
            " [0.12259159]]\n",
            "b = 1.9253598300845747\n",
            "dw = [[0.67752042]\n",
            " [1.41625495]]\n",
            "db = 0.21919450454067654\n"
          ],
          "name": "stdout"
        }
      ]
    },
    {
      "cell_type": "markdown",
      "metadata": {
        "id": "Q06Beza0YGY8"
      },
      "source": [
        "**Expected Output**: \n",
        "\n",
        "w = [[0.19033591]\n",
        "\n",
        " [0.12259159]]\n",
        "\n",
        "b = 1.9253598300845747\n",
        "\n",
        "dw = [[0.67752042]\n",
        "\n",
        " [1.41625495]]\n",
        " \n",
        "db = 0.21919450454067657"
      ]
    },
    {
      "cell_type": "markdown",
      "metadata": {
        "id": "pqQjo0ktYGZA"
      },
      "source": [
        "## 2.5 - Merge all functions into a model ##\n",
        "\n",
        "**Exercise:** 최종적으로 앞서 구한 함수들을 이용하여 model 함수를 구현하세요."
      ]
    },
    {
      "cell_type": "code",
      "metadata": {
        "id": "3-QoOjIhYGZB"
      },
      "source": [
        "# GRADED FUNCTION: model\n",
        "\n",
        "def model(X, Y, num_iterations = 2000, learning_rate = 0.5, print_cost = False):\n",
        "    \"\"\"\n",
        "    Builds the logistic regression model by calling the function you've implemented previously\n",
        "    \n",
        "    Arguments:\n",
        "    X -- training set represented by a numpy array of shape (dim, m_train)\n",
        "    Y -- training labels represented by a numpy array (vector) of shape (1, m_train)\n",
        "    \n",
        "    num_iterations -- hyperparameter representing the number of iterations to optimize the parameters\n",
        "    learning_rate -- hyperparameter representing the learning rate used in the update rule of optimize()\n",
        "    print_cost -- Set to true to print the cost every 100 iterations\n",
        "    \n",
        "    Returns:\n",
        "    d -- dictionary containing information about the model.\n",
        "    \"\"\"\n",
        "    \n",
        "    ### START CODE HERE ###\n",
        "    \n",
        "    # initialize parameters with zeros\n",
        "    w, b =  initialize_with_zeros(len(X))\n",
        "\n",
        "    # Gradient descent\n",
        "    parameters, grads, costs = optimize(w, b, X, Y, num_iterations, learning_rate, print_cost)\n",
        "    \n",
        "    # Retrieve parameters w and b from dictionary \"parameters\"\n",
        "    w = parameters\n",
        "    b = parameters[b]\n",
        "     \n",
        "    ### END CODE HERE ###\n",
        "  \n",
        "    d = {\"costs\": costs,\n",
        "         \"w\" : w, \n",
        "         \"b\" : b,\n",
        "         \"learning_rate\" : learning_rate,\n",
        "         \"num_iterations\": num_iterations}\n",
        "    \n",
        "    return d"
      ],
      "execution_count": 71,
      "outputs": []
    },
    {
      "cell_type": "code",
      "metadata": {
        "id": "bEwWCruIYGZC",
        "outputId": "bcd7f623-5291-4436-d45a-ba70884ff66e",
        "colab": {
          "base_uri": "https://localhost:8080/",
          "height": 478
        }
      },
      "source": [
        "d = model(x, y, num_iterations = 1000, learning_rate = 1, print_cost = True)"
      ],
      "execution_count": 72,
      "outputs": [
        {
          "output_type": "stream",
          "text": [
            "Cost after iteration 0: 0.693147\n",
            "Cost after iteration 100: 0.126975\n",
            "Cost after iteration 200: 0.102019\n",
            "Cost after iteration 300: 0.090061\n",
            "Cost after iteration 400: 0.082223\n",
            "Cost after iteration 500: 0.076534\n",
            "Cost after iteration 600: 0.072140\n",
            "Cost after iteration 700: 0.068601\n",
            "Cost after iteration 800: 0.065663\n",
            "Cost after iteration 900: 0.063167\n"
          ],
          "name": "stdout"
        },
        {
          "output_type": "error",
          "ename": "TypeError",
          "evalue": "ignored",
          "traceback": [
            "\u001b[0;31m---------------------------------------------------------------------------\u001b[0m",
            "\u001b[0;31mTypeError\u001b[0m                                 Traceback (most recent call last)",
            "\u001b[0;32m<ipython-input-72-4d4d08e99133>\u001b[0m in \u001b[0;36m<module>\u001b[0;34m()\u001b[0m\n\u001b[0;32m----> 1\u001b[0;31m \u001b[0md\u001b[0m \u001b[0;34m=\u001b[0m \u001b[0mmodel\u001b[0m\u001b[0;34m(\u001b[0m\u001b[0mx\u001b[0m\u001b[0;34m,\u001b[0m \u001b[0my\u001b[0m\u001b[0;34m,\u001b[0m \u001b[0mnum_iterations\u001b[0m \u001b[0;34m=\u001b[0m \u001b[0;36m1000\u001b[0m\u001b[0;34m,\u001b[0m \u001b[0mlearning_rate\u001b[0m \u001b[0;34m=\u001b[0m \u001b[0;36m1\u001b[0m\u001b[0;34m,\u001b[0m \u001b[0mprint_cost\u001b[0m \u001b[0;34m=\u001b[0m \u001b[0;32mTrue\u001b[0m\u001b[0;34m)\u001b[0m\u001b[0;34m\u001b[0m\u001b[0;34m\u001b[0m\u001b[0m\n\u001b[0m",
            "\u001b[0;32m<ipython-input-71-0dd26fd2c7e8>\u001b[0m in \u001b[0;36mmodel\u001b[0;34m(X, Y, num_iterations, learning_rate, print_cost)\u001b[0m\n\u001b[1;32m     26\u001b[0m \u001b[0;34m\u001b[0m\u001b[0m\n\u001b[1;32m     27\u001b[0m     \u001b[0;31m# Retrieve parameters w and b from dictionary \"parameters\"\u001b[0m\u001b[0;34m\u001b[0m\u001b[0;34m\u001b[0m\u001b[0;34m\u001b[0m\u001b[0m\n\u001b[0;32m---> 28\u001b[0;31m     \u001b[0mw\u001b[0m \u001b[0;34m=\u001b[0m \u001b[0mparameters\u001b[0m\u001b[0;34m[\u001b[0m\u001b[0mw\u001b[0m\u001b[0;34m]\u001b[0m\u001b[0;34m\u001b[0m\u001b[0;34m\u001b[0m\u001b[0m\n\u001b[0m\u001b[1;32m     29\u001b[0m     \u001b[0mb\u001b[0m \u001b[0;34m=\u001b[0m \u001b[0mparameters\u001b[0m\u001b[0;34m[\u001b[0m\u001b[0mb\u001b[0m\u001b[0;34m]\u001b[0m\u001b[0;34m\u001b[0m\u001b[0;34m\u001b[0m\u001b[0m\n\u001b[1;32m     30\u001b[0m \u001b[0;34m\u001b[0m\u001b[0m\n",
            "\u001b[0;31mTypeError\u001b[0m: unhashable type: 'numpy.ndarray'"
          ]
        }
      ]
    },
    {
      "cell_type": "markdown",
      "metadata": {
        "id": "wgakvoeBYGZE"
      },
      "source": [
        "**Expected Output**: \n",
        "\n",
        "Cost after iteration 0: 0.693147\n",
        "\n",
        "Cost after iteration 100: 0.126975\n",
        "\n",
        "Cost after iteration 200: 0.102019\n",
        "\n",
        "Cost after iteration 300: 0.090061\n",
        "\n",
        "Cost after iteration 400: 0.082223\n",
        "\n",
        "Cost after iteration 500: 0.076534\n",
        "\n",
        "Cost after iteration 600: 0.072140\n",
        "\n",
        "Cost after iteration 700: 0.068601\n",
        "\n",
        "Cost after iteration 800: 0.065663\n",
        "\n",
        "Cost after iteration 900: 0.063167\n",
        "\n"
      ]
    },
    {
      "cell_type": "markdown",
      "metadata": {
        "id": "NiugCXtlYGZE"
      },
      "source": [
        "## 2.6 - Visualization ##\n",
        "Learning이 진행될수록 cost가 어떻게 나타나는지 확인해보세요.\n"
      ]
    },
    {
      "cell_type": "code",
      "metadata": {
        "id": "dHDGTycwNgrP"
      },
      "source": [
        "# Plot learning curve (with costs)\n",
        "costs = np.squeeze(d['costs'])\n",
        "plt.plot(costs)\n",
        "plt.ylabel('cost')\n",
        "plt.ylim((0,1))\n",
        "plt.xlabel('iterations (per hundreds)')\n",
        "plt.title(\"Learning rate =\" + str(d[\"learning_rate\"]))\n",
        "plt.show()"
      ],
      "execution_count": null,
      "outputs": []
    },
    {
      "cell_type": "markdown",
      "metadata": {
        "id": "rtRbJb13YGZH"
      },
      "source": [
        "Gradient descent를 통해 추정한 직선을 plot하여 Logistic regression이 잘 되는지 확인해보세요."
      ]
    },
    {
      "cell_type": "code",
      "metadata": {
        "id": "-MIyuKPuQjuu"
      },
      "source": [
        "print (\"w = \" + str(d[\"w\"]))\n",
        "print (\"b = \" + str(d[\"b\"]))\n",
        "\n",
        "y_hat = sigmoid(np.dot(np.transpose(d[\"w\"]),x)+d[\"b\"])\n",
        "plt.scatter(x, y,label='data')\n",
        "plt.plot(np.transpose(x),np.transpose(y_hat), color='red', linewidth=2, label='predicted')\n",
        "plt.title('Logistic Regression')\n",
        "plt.xlabel('x')\n",
        "plt.ylabel('y')\n",
        "plt.legend()\n",
        "plt.show()"
      ],
      "execution_count": null,
      "outputs": []
    }
  ]
}