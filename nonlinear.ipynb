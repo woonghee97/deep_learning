{
  "nbformat": 4,
  "nbformat_minor": 0,
  "metadata": {
    "colab": {
      "name": "nonlinear.ipynb",
      "provenance": [],
      "authorship_tag": "ABX9TyNGQWUR0SfW2vwh3Y5i6VD4",
      "include_colab_link": true
    },
    "kernelspec": {
      "name": "python3",
      "display_name": "Python 3"
    },
    "language_info": {
      "name": "python"
    }
  },
  "cells": [
    {
      "cell_type": "markdown",
      "metadata": {
        "id": "view-in-github",
        "colab_type": "text"
      },
      "source": [
        "<a href=\"https://colab.research.google.com/github/woonghee97/deep_learning/blob/DeepLearning/nonlinear.ipynb\" target=\"_parent\"><img src=\"https://colab.research.google.com/assets/colab-badge.svg\" alt=\"Open In Colab\"/></a>"
      ]
    },
    {
      "cell_type": "code",
      "execution_count": null,
      "metadata": {
        "id": "E3pKgHlTGk8z"
      },
      "outputs": [],
      "source": [
        "import pandas as pd\n",
        "import numpy as np\n",
        "import matplotlib.pyplot as plt\n",
        "\n",
        "# 텐서플로우와 케라스를 사용할 수 있도록 준비\n",
        "import tensorflow as tf\n",
        "from tensorflow import keras\n",
        "\n",
        "model = keras.models.Sequential( [\n",
        "    keras.layers.Dense(6, activation= 'sigmoid'),\n",
        "    keras.layers.Dense(4, activation= 'sigmoid'),\n",
        "    keras.layers.Dense(1, activation= 'sigmoid'),\n",
        "])\n",
        "\n",
        "optimizer = keras.optimizers.SGD(learning_rate=5.0)\n",
        "model.compile(optimizer=optimizer, loss='mse')\n",
        "\n",
        "data_loc = 'https://github.com/dknife/ML/raw/main/data/'\n",
        "df = pd.read_csv(data_loc+'nonlinear.csv')\n",
        "X = df['x'].to_numpy()\n",
        "y_label = df['y'].to_numpy()\n",
        "\n",
        "model.fit(tf.expand_dims(X, axis=-1), y_label, epochs=100)\n",
        "\n",
        "domain = np.linspace(0, 1, 100).reshape(-1,1) # 입력은 2차원 벡터로 변형\n",
        "y_hat = model.predict(domain)\n",
        "plt.scatter(df['x'], df['y'])\n",
        "plt.scatter(domain, y_hat, color='r')"
      ]
    }
  ]
}