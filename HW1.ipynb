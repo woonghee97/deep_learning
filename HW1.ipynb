{
  "nbformat": 4,
  "nbformat_minor": 0,
  "metadata": {
    "coursera": {
      "course_slug": "neural-networks-deep-learning",
      "graded_item_id": "XaIWT",
      "launcher_item_id": "zAgPl"
    },
    "kernelspec": {
      "display_name": "Python 3",
      "language": "python",
      "name": "python3"
    },
    "language_info": {
      "codemirror_mode": {
        "name": "ipython",
        "version": 3
      },
      "file_extension": ".py",
      "mimetype": "text/x-python",
      "name": "python",
      "nbconvert_exporter": "python",
      "pygments_lexer": "ipython3",
      "version": "3.6.0"
    },
    "colab": {
      "name": "HW1.ipynb",
      "provenance": [],
      "collapsed_sections": [],
      "include_colab_link": true
    }
  },
  "cells": [
    {
      "cell_type": "markdown",
      "metadata": {
        "id": "view-in-github",
        "colab_type": "text"
      },
      "source": [
        "<a href=\"https://colab.research.google.com/github/woonghee97/deep_learning/blob/main/HW1.ipynb\" target=\"_parent\"><img src=\"https://colab.research.google.com/assets/colab-badge.svg\" alt=\"Open In Colab\"/></a>"
      ]
    },
    {
      "cell_type": "markdown",
      "metadata": {
        "id": "9OA0f9oxYGYb"
      },
      "source": [
        "# HW#1 Linear Regression\n",
        "\n",
        "안녕하세요, 광운대학교 로봇학부의 오정현 교수입니다. 본 자료는 딥러닝 실습 수업을 위해 제작된 것입니다.\n",
        "\n",
        "파이썬 문법\n",
        "- 점프투파이썬(https://wikidocs.net/book/1) 참고\n",
        "\n",
        "이번 과제는 Gradient descent를 이용하여 Linear regression을 구현해 보는 것입니다. \n",
        "\n",
        "\n",
        "\n"
      ]
    },
    {
      "cell_type": "markdown",
      "metadata": {
        "id": "bTsM8H8rYGYc"
      },
      "source": [
        "## 1 - Package import\n",
        "\n",
        "먼저 과제에 필요한 package를 import 합니다.\n",
        "- [numpy](www.numpy.org)는 파이썬에서 행렬 연산을 위한 핵심 라이브러리입니다.\n",
        "- [matplotlib](http://matplotlib.org) 파이썬에서 plot을 위한 라이브러리입니다."
      ]
    },
    {
      "cell_type": "code",
      "metadata": {
        "id": "Ug4a7Mw8YGYc"
      },
      "source": [
        "import numpy as np\n",
        "import matplotlib.pyplot as plt"
      ],
      "execution_count": 217,
      "outputs": []
    },
    {
      "cell_type": "markdown",
      "metadata": {
        "id": "QIH8-fDHnXjL"
      },
      "source": [
        "## 2. Data generation\n",
        "\n",
        "Linear regression을 위한 데이터를 생성해봅시다.\n",
        "이 데이터를 잘 표현하는 직선을 찾는 것이 linear regression의 목적입니다."
      ]
    },
    {
      "cell_type": "code",
      "metadata": {
        "id": "27mDrm4wnVd1",
        "colab": {
          "base_uri": "https://localhost:8080/",
          "height": 295
        },
        "outputId": "94b7c39b-741f-497e-93dc-71c55d565161"
      },
      "source": [
        "# 데이터 생성, x:input, y:target\n",
        "# y=ax+b 형태, y=3x+4라고 하자\n",
        "\n",
        "x = np.array([np.linspace(0, 10, 100)]) # 0부터 10까지 100개의 데이터를 생성합니다.\n",
        "y = 3 * x + 4 + np.random.randn(*x.shape) * 1.5  # noise값을 변화하면서 다양한 데이터를 생성해 보세요.\n",
        "\n",
        "plt.scatter(x, y)\n",
        "plt.title('input vs target')\n",
        "plt.xlabel('x(input)')\n",
        "plt.ylabel('y(target)')\n",
        "plt.show()"
      ],
      "execution_count": 218,
      "outputs": [
        {
          "output_type": "display_data",
          "data": {
            "image/png": "[encoded data removed]",
            "text/plain": [
              "<Figure size 432x288 with 1 Axes>"
            ]
          },
          "metadata": {
            "tags": [],
            "needs_background": "light"
          }
        }
      ]
    },
    {
      "cell_type": "markdown",
      "metadata": {
        "id": "yE6k9k4Hy9g3"
      },
      "source": [
        "데이터의 모양을 살펴볼까요? \n",
        "\n",
        "shape 함수를 쓰면 data의 shape를 알 수 있습니다.\n",
        "\n",
        "\n",
        "example) data라는 변수의 shape: data.shape\n",
        "\n",
        "**Exercise:** input data x와 output data y의 형태를 출력해보세요."
      ]
    },
    {
      "cell_type": "code",
      "metadata": {
        "id": "93IU9-8Zx_zw",
        "colab": {
          "base_uri": "https://localhost:8080/"
        },
        "outputId": "5504800a-82e2-4727-ba3c-69bb3bb3ac1f"
      },
      "source": [
        "# Data의 사이즈를 출력해보세요.\n",
        "### START CODE HERE ###\n",
        "x_shape = x.shape\n",
        "y_shape = y.shape\n",
        "### END CODE HERE ###\n",
        "print (\"The shape of input data x: \" + str(x_shape))\n",
        "print (\"The shape of target data y: \" + str(y_shape))"
      ],
      "execution_count": 219,
      "outputs": [
        {
          "output_type": "stream",
          "text": [
            "The shape of input data x: (1, 100)\n",
            "The shape of target data y: (1, 100)\n"
          ],
          "name": "stdout"
        }
      ]
    },
    {
      "cell_type": "markdown",
      "metadata": {
        "id": "6GDig8ouzrIN"
      },
      "source": [
        "**Expected Output**: \n",
        "\n",
        "The shape of input data x: (1, 100)\n",
        "\n",
        "The shape of target data y: (1, 100)"
      ]
    },
    {
      "cell_type": "markdown",
      "metadata": {
        "id": "KmzwQIX90COw"
      },
      "source": [
        "## 3 - General Architecture of the learning algorithm ##\n",
        "\n",
        "Linear regression을 구하기 위해서 우리의 hypothesis는 linear model을 가정합니다. 이 때 i-번째 input data $x^{(i)}$의 추정값 $\\hat y^{(i)}$은 (1)과 같은 관계를 만족합니다. \n",
        "\n",
        "\n",
        "$$\\hat y^{(i)} = w x^{(i)} + b \\tag{1}$$\n",
        "\n",
        "$\\hat y$ 은 y-hat이라고 읽으며 $y$의 값을 추정한다는 의미로 흔히 쓰이는 표현입니다. 이 때 추정값 $\\hat y^{(i)}$와 target값인 $y$ 사이에 loss function을 squared error 형태로 나타내면 (2)와 같습니다.\n",
        "\n",
        "$$ \\mathcal{L}(\\hat y^{(i)}, y^{(i)}) =  \\frac{1}{2}(\\hat y^{(i)}-y^{(i)})^2 \\tag{2}$$\n",
        "\n",
        "마지막으로 전체 데이터 m개에 대한 cost function은 (3)과 같이 정의됩니다.\n",
        "\n",
        "$$ J = \\frac{1}{m} \\sum_{i=1}^m \\mathcal{L}(\\hat y^{(i)}, y^{(i)})\\tag{3}$$\n",
        "\n",
        "최종적으로 이 cost function의 값을 최소화하는 $w$와 $b$를 찾는 것이 우리의 목표가 되는 것입니다.\n"
      ]
    },
    {
      "cell_type": "markdown",
      "metadata": {
        "id": "V5_dlPQB3nVy"
      },
      "source": [
        "## 4 - Gradient descent algorithm ## \n",
        "Gradient descent algorithm은 다음과 같은 단계로 구현합니다.\n",
        "\n",
        "1. Parameter 초기화 `initialize_with_zeros()`\n",
        "2. Loop (최적화 과정): `optimize()`\n",
        "    - 현재 cost 계산(forward propagation) 및 현재 gradient를 계산 (backward propagation) : `propagate()`\n",
        "    - Parameter 업데이트(gradient descent)\n",
        "\n",
        "이 모든 과정을 합쳐서 `model()` 함수로 구현합니다."
      ]
    },
    {
      "cell_type": "markdown",
      "metadata": {
        "id": "moDDgNLZYGYy"
      },
      "source": [
        "### 4.1 - Parameter 초기화\n",
        "**Exercise:** 아래 Parameter 초기화 함수를 구현하세요. $w$의 경우 0으로 이루어진 벡터이고 $b$의 경우 스칼라값 0으로 초기화하세요. np.zeros() 함수를 참고하세요."
      ]
    },
    {
      "cell_type": "code",
      "metadata": {
        "id": "XikWAeG-YGYy"
      },
      "source": [
        "# GRADED FUNCTION: initialize_with_zeros\n",
        "\n",
        "def initialize_with_zeros(dim):\n",
        "    \"\"\"\n",
        "    This function creates a vector of zeros of shape (dim, 1) for w and initializes b to 0.\n",
        "    \n",
        "    Argument:\n",
        "    dim -- size of the w vector we want (or number of parameters in this case)\n",
        "    \n",
        "    Returns:\n",
        "    w -- initialized vector of shape (dim, 1)\n",
        "    b -- initialized scalar (corresponds to the bias)\n",
        "    \"\"\"\n",
        "    \n",
        "    ### START CODE HERE ###\n",
        "    w = np.zeros((dim,1))\n",
        "    b = 0\n",
        "    ### END CODE HERE ###\n",
        "\n",
        "    assert(w.shape == (dim, 1))\n",
        "    assert(isinstance(b, float) or isinstance(b, int))\n",
        "    \n",
        "    return w, b"
      ],
      "execution_count": 220,
      "outputs": []
    },
    {
      "cell_type": "code",
      "metadata": {
        "id": "i5DBP7arYGY0",
        "colab": {
          "base_uri": "https://localhost:8080/"
        },
        "outputId": "0351e718-cd0d-4003-da12-ccf99a08bc79"
      },
      "source": [
        "dim = 2\n",
        "w, b = initialize_with_zeros(dim)\n",
        "print (\"w = \" + str(w))\n",
        "print (\"b = \" + str(b))"
      ],
      "execution_count": 221,
      "outputs": [
        {
          "output_type": "stream",
          "text": [
            "w = [[0.]\n",
            " [0.]]\n",
            "b = 0\n"
          ],
          "name": "stdout"
        }
      ]
    },
    {
      "cell_type": "markdown",
      "metadata": {
        "id": "FLalNrcVYGY1"
      },
      "source": [
        "**Expected Output**: \n",
        "\n",
        "\n",
        "w = [[0.]\\\n",
        "     [0.]]\n",
        "\n",
        "b = 0"
      ]
    },
    {
      "cell_type": "markdown",
      "metadata": {
        "id": "iMXQly9FEHXQ"
      },
      "source": [
        "### 4.2 - Forward and Backward propagation\n",
        "**Exercise:** cost값 및 gradient를 계산하는 `propagate()` 함수를 구현하세요.\n",
        "\n",
        "**Hints**:\n",
        "\n",
        "Forward Propagation:\n",
        "- X를 인수로 받는다.\n",
        "- (1), (2), (3)을 합쳐서 전개하면 다음과 같은 cost function 식이 나온다.\n",
        "$$J = \\frac{1}{2m}\\sum_{i=1}^{m}(wx^{(i)}+b-y^{(i)})^2\\tag{4}$$\n",
        "\n",
        "Backward Propagation:\n",
        "- w와 b의 gradient를 계산한다.\n",
        "\n",
        "$$ \\frac{\\partial J}{\\partial w} = \\frac{1}{m}\\sum_{i=1}^{m}(wx^{(i)}+b-y^{(i)})\\cdot x^{(i)}\\tag{5}$$\n",
        "$$ \\frac{\\partial J}{\\partial b} = \\frac{1}{m} \\sum_{i=1}^m (wx^{(i)}+b-y^{(i)})\\tag{6}$$\n",
        "\n",
        "이를 행렬 형태로 쓰면 다음과 같다.\n",
        "\n",
        "$$J = \\frac{1}{2m}np.sum[w^TX+b-Y]^.2\\tag{4'}$$\n",
        "\\\n",
        "$$ \\frac{\\partial J}{\\partial w} = \\frac{1}{m}X(w^TX+b-Y)^T\\tag{5'}$$\n",
        "\\\n",
        "$$ \\frac{\\partial J}{\\partial b} = \\frac{1}{m} \\ np.sum [w^TX+b-Y]\\tag{6'}$$\n"
      ]
    },
    {
      "cell_type": "code",
      "metadata": {
        "id": "n96tROQaYGY2"
      },
      "source": [
        "# GRADED FUNCTION: propagate\n",
        "\n",
        "def propagate(w, b, X, Y):\n",
        "    \"\"\"\n",
        "    Implement the cost function and its gradient for the propagation explained above\n",
        "\n",
        "    Arguments:\n",
        "    w -- weights, a numpy array of size (dim, 1)\n",
        "    b -- bias, a scalar\n",
        "    X -- data of size (dim, number of examples)\n",
        "    Y -- true \"label\" vector (containing 0 or 1) of size (1, number of examples)\n",
        "\n",
        "    Return:\n",
        "    cost -- negative log-likelihood cost for logistic regression\n",
        "    dw -- gradient of the loss with respect to w, thus same shape as w\n",
        "    db -- gradient of the loss with respect to b, thus same shape as b\n",
        "    \n",
        "    Tips:\n",
        "    - Write your code step by step for the propagation. np.log(), np.dot()\n",
        "    \"\"\"\n",
        "    \n",
        "    m = X.shape[1]\n",
        "    \n",
        "    # FORWARD PROPAGATION (FROM X TO COST)\n",
        "    ### START CODE HERE ###\n",
        "    cost = np.sum((np.dot(w.T,X) + b - Y)**2)/(2*m)\n",
        "    \n",
        "    # BACKWARD PROPAGATION (TO FIND GRAD)\n",
        "    ### START CODE HERE ###\n",
        "    dw = np.dot(X,((np.dot(w.T,X) + b) - Y).T)/m\n",
        "    db = np.sum((np.dot(w.T,X) + b) - Y)/m\n",
        "    ### END CODE HERE ###\n",
        "\n",
        "    assert(dw.shape == w.shape)\n",
        "    assert(db.dtype == float)\n",
        "    cost = np.squeeze(cost)\n",
        "    assert(cost.shape == ())\n",
        "    \n",
        "    grads = {\"dw\": dw,\n",
        "             \"db\": db}\n",
        "    \n",
        "    return grads, cost"
      ],
      "execution_count": 222,
      "outputs": []
    },
    {
      "cell_type": "code",
      "metadata": {
        "id": "GPB8LQloIY9K",
        "colab": {
          "base_uri": "https://localhost:8080/"
        },
        "outputId": "f4c754a9-8478-44df-d103-5e715d8d4534"
      },
      "source": [
        "w, b, X, Y = np.array([[1.],[2.]]), 2., np.array([[1.,2.,-1.],[3.,4.,-3.2]]), np.array([[1,0,1]])\n",
        "grads, cost = propagate(w, b, X, Y)\n",
        "print (\"dw = \" + str(grads[\"dw\"]))\n",
        "print (\"db = \" + str(grads[\"db\"]))\n",
        "print (\"cost = \" + str(cost))"
      ],
      "execution_count": 223,
      "outputs": [
        {
          "output_type": "stream",
          "text": [
            "dw = [[12.8       ]\n",
            " [30.82666667]]\n",
            "db = 4.533333333333333\n",
            "cost = 41.49333333333333\n"
          ],
          "name": "stdout"
        }
      ]
    },
    {
      "cell_type": "markdown",
      "metadata": {
        "id": "G8sM3At2YGY5"
      },
      "source": [
        "**Expected Output**:\n",
        "\n",
        "dw = [[12.8       ]\n",
        " \n",
        " [30.82666667]]\n",
        "\n",
        "db = 4.533333333333333\n",
        "\n",
        "cost = 41.49333333333333"
      ]
    },
    {
      "cell_type": "markdown",
      "metadata": {
        "id": "Kbai8qmgJZrm"
      },
      "source": [
        "### 4.3 - Optimization\n",
        "현재 parameter에 새로운 parameter를 업데이트하는 함수 `optimize()` 함수를 구현하세요.\n",
        "\n",
        "**Exercise:** 우리의 parameter $w$와 $b$를 업데이트하는 식을 구현해야 합니다. paramter를 $\\theta$라고 할 때, 업데이트 규칙은 $ \\theta = \\theta - \\alpha \\text{ } d\\theta$로 정의됩니다. 이 때 $\\alpha$를 learning rate라고 합니다."
      ]
    },
    {
      "cell_type": "code",
      "metadata": {
        "id": "BmJ1gtbXYGY5"
      },
      "source": [
        "# GRADED FUNCTION: optimize\n",
        "\n",
        "def optimize(w, b, X, Y, num_iterations, learning_rate, print_cost = False):\n",
        "    \"\"\"\n",
        "    This function optimizes w and b by running a gradient descent algorithm\n",
        "    \n",
        "    Arguments:\n",
        "    w -- weights, a numpy array of size (dim, 1)\n",
        "    b -- bias, a scalar\n",
        "    X -- data of shape (dim, number of examples)\n",
        "    Y -- true \"label\" vector (containing 0 or 1), of shape (1, number of examples)\n",
        "    num_iterations -- number of iterations of the optimization loop\n",
        "    learning_rate -- learning rate of the gradient descent update rule\n",
        "    print_cost -- True to print the loss every 100 steps\n",
        "    \n",
        "    Returns:\n",
        "    params -- dictionary containing the weights w and bias b\n",
        "    grads -- dictionary containing the gradients of the weights and bias with respect to the cost function\n",
        "    costs -- list of all the costs computed during the optimization, this will be used to plot the learning curve.\n",
        "    \n",
        "    Tips:\n",
        "    You basically need to write down two steps and iterate through them:\n",
        "        1) Calculate the cost and the gradient for the current parameters. Use propagate().\n",
        "        2) Update the parameters using gradient descent rule for w and b.\n",
        "    \"\"\"\n",
        "    \n",
        "    costs = []\n",
        "    \n",
        "    for i in range(num_iterations):\n",
        "        \n",
        "        \n",
        "        # Cost and gradient calculation\n",
        "        ### START CODE HERE ### \n",
        "        grads, cost = propagate(w,b,X,Y)\n",
        "        ### END CODE HERE ###\n",
        "        \n",
        "        # Retrieve derivatives from grads\n",
        "        dw = grads[\"dw\"]\n",
        "        db = grads[\"db\"]\n",
        "        \n",
        "        # update rule\n",
        "        ### START CODE HERE ###\n",
        "        w = w - learning_rate * dw\n",
        "        b = b - learning_rate * db\n",
        "        ### END CODE HERE ###\n",
        "        \n",
        "        # Record the costs\n",
        "        costs.append(cost)\n",
        "        \n",
        "        # Print the cost every 100 training iterations\n",
        "        if print_cost and i % 100 == 0:\n",
        "            print (\"Cost after iteration %i: %f\" %(i, cost))\n",
        "    \n",
        "    params = {\"w\": w,\n",
        "              \"b\": b}\n",
        "    \n",
        "    grads = {\"dw\": dw,\n",
        "             \"db\": db}\n",
        "    \n",
        "    return params, grads, costs"
      ],
      "execution_count": 224,
      "outputs": []
    },
    {
      "cell_type": "code",
      "metadata": {
        "id": "Y0NA6YijYGY7",
        "colab": {
          "base_uri": "https://localhost:8080/"
        },
        "outputId": "1c9684ab-94ef-4bd6-ccf1-19b6feca41a4"
      },
      "source": [
        "params, grads, costs = optimize(w, b, X, Y, num_iterations= 100, learning_rate = 0.009, print_cost = False)\n",
        "\n",
        "print (\"w = \" + str(params[\"w\"]))\n",
        "print (\"b = \" + str(params[\"b\"]))\n",
        "print (\"dw = \" + str(grads[\"dw\"]))\n",
        "print (\"db = \" + str(grads[\"db\"]))"
      ],
      "execution_count": 225,
      "outputs": [
        {
          "output_type": "stream",
          "text": [
            "w = [[-0.04675219]\n",
            " [-0.12676061]]\n",
            "b = 1.223758731602527\n",
            "dw = [[ 0.12274692]\n",
            " [-0.09406359]]\n",
            "db = 0.3683397115660049\n"
          ],
          "name": "stdout"
        }
      ]
    },
    {
      "cell_type": "markdown",
      "metadata": {
        "id": "Q06Beza0YGY8"
      },
      "source": [
        "**Expected Output**: \n",
        "\n",
        "w = [[-0.04675219]\n",
        "\n",
        " [-0.12676061]]\n",
        "\n",
        "b = 1.223758731602527\n",
        "\n",
        "dw = [[ 0.12274692]\n",
        "\n",
        " [-0.09406359]]\n",
        " \n",
        "db = 0.36833971156600487"
      ]
    },
    {
      "cell_type": "markdown",
      "metadata": {
        "id": "pqQjo0ktYGZA"
      },
      "source": [
        "## 5 - Merge all functions into a model ##\n",
        "\n",
        "**Exercise:** 최종적으로 앞서 구한 함수들을 이용하여 model 함수를 구현하세요."
      ]
    },
    {
      "cell_type": "code",
      "metadata": {
        "id": "3-QoOjIhYGZB"
      },
      "source": [
        "# GRADED FUNCTION: model\n",
        "\n",
        "def model(X, Y, num_iterations = 2000, learning_rate = 0.5, print_cost = False):\n",
        "    \"\"\"\n",
        "    Builds the logistic regression model by calling the function you've implemented previously\n",
        "    \n",
        "    Arguments:\n",
        "    X_train -- training set represented by a numpy array of shape (dim, m_train)\n",
        "    Y_train -- training labels represented by a numpy array (vector) of shape (1, m_train)\n",
        "    X_test -- test set represented by a numpy array of shape (dim, m_test)\n",
        "    Y_test -- test labels represented by a numpy array (vector) of shape (1, m_test)\n",
        "    num_iterations -- hyperparameter representing the number of iterations to optimize the parameters\n",
        "    learning_rate -- hyperparameter representing the learning rate used in the update rule of optimize()\n",
        "    print_cost -- Set to true to print the cost every 100 iterations\n",
        "    \n",
        "    Returns:\n",
        "    d -- dictionary containing information about the model.\n",
        "    \"\"\"\n",
        "    \n",
        "    ### START CODE HERE ###\n",
        "    \n",
        "    # initialize parameters with zeros\n",
        "    w, b = initialize_with_zeros(X.shape[0])\n",
        "\n",
        "    # Gradient descent\n",
        "    parameters, grads, costs = optimize(w, b, X, Y, num_iterations, learning_rate, print_cost)\n",
        "    \n",
        "    # Retrieve parameters w and b from dictionary \"parameters\"\n",
        "    w = parameters[\"w\"]\n",
        "    b = parameters[\"b\"]\n",
        "     \n",
        "    ### END CODE HERE ###\n",
        "  \n",
        "    d = {\"costs\": costs,\n",
        "         \"w\" : w, \n",
        "         \"b\" : b,\n",
        "         \"learning_rate\" : learning_rate,\n",
        "         \"num_iterations\": num_iterations}\n",
        "    \n",
        "    return d"
      ],
      "execution_count": 226,
      "outputs": []
    },
    {
      "cell_type": "code",
      "metadata": {
        "id": "bEwWCruIYGZC",
        "colab": {
          "base_uri": "https://localhost:8080/"
        },
        "outputId": "db5fa5c7-33dc-40d4-88c0-beffbedf9df4"
      },
      "source": [
        "d = model(x, y, num_iterations = 1000, learning_rate = 0.02, print_cost = True)"
      ],
      "execution_count": 227,
      "outputs": [
        {
          "output_type": "stream",
          "text": [
            "Cost after iteration 0: 217.022814\n",
            "Cost after iteration 100: 1.375575\n",
            "Cost after iteration 200: 1.011827\n",
            "Cost after iteration 300: 0.877377\n",
            "Cost after iteration 400: 0.827681\n",
            "Cost after iteration 500: 0.809312\n",
            "Cost after iteration 600: 0.802523\n",
            "Cost after iteration 700: 0.800013\n",
            "Cost after iteration 800: 0.799085\n",
            "Cost after iteration 900: 0.798742\n"
          ],
          "name": "stdout"
        }
      ]
    },
    {
      "cell_type": "markdown",
      "metadata": {
        "id": "wgakvoeBYGZE"
      },
      "source": [
        "**Expected Output**: \n",
        "\n",
        "Cost after iteration 0: 218.021738\n",
        "\n",
        "Cost after iteration 100: 1.053341\n",
        "\n",
        "Cost after iteration 200: 0.692178\n",
        "\n",
        "Cost after iteration 300: 0.470978\n",
        "\n",
        "Cost after iteration 400: 0.335501\n",
        "\n",
        "Cost after iteration 500: 0.252526\n",
        "\n",
        "Cost after iteration 600: 0.201707\n",
        "\n",
        "Cost after iteration 700: 0.170582\n",
        "\n",
        "Cost after iteration 800: 0.151519\n",
        "\n",
        "Cost after iteration 900: 0.139843\n",
        "\n"
      ]
    },
    {
      "cell_type": "markdown",
      "metadata": {
        "id": "NiugCXtlYGZE"
      },
      "source": [
        "## 6 - Visualization ##\n",
        "Learning이 진행될수록 cost가 어떻게 나타나는지 확인해보세요.\n"
      ]
    },
    {
      "cell_type": "code",
      "metadata": {
        "id": "dHDGTycwNgrP",
        "colab": {
          "base_uri": "https://localhost:8080/",
          "height": 295
        },
        "outputId": "8ba49208-9622-4523-e0ad-0e2d2f5e8bcc"
      },
      "source": [
        "# Plot learning curve (with costs)\n",
        "costs = np.squeeze(d['costs'])\n",
        "plt.plot(costs)\n",
        "plt.ylabel('cost')\n",
        "plt.ylim((0,3))\n",
        "plt.xlabel('iterations (per hundreds)')\n",
        "plt.title(\"Learning rate =\" + str(d[\"learning_rate\"]))\n",
        "plt.show()"
      ],
      "execution_count": 228,
      "outputs": [
        {
          "output_type": "display_data",
          "data": {
            "image/png": "[encoded data removed]",
            "text/plain": [
              "<Figure size 432x288 with 1 Axes>"
            ]
          },
          "metadata": {
            "tags": [],
            "needs_background": "light"
          }
        }
      ]
    },
    {
      "cell_type": "markdown",
      "metadata": {
        "id": "rtRbJb13YGZH"
      },
      "source": [
        "Gradient descent를 통해 추정한 직선을 plot하여 Linear regression이 잘 되는지 확인해보세요."
      ]
    },
    {
      "cell_type": "code",
      "metadata": {
        "id": "-MIyuKPuQjuu",
        "colab": {
          "base_uri": "https://localhost:8080/",
          "height": 331
        },
        "outputId": "46abff85-e9fd-4ea0-b151-d45681415af7"
      },
      "source": [
        "print (\"w = \" + str(d[\"w\"]))\n",
        "print (\"b = \" + str(d[\"b\"]))\n",
        "\n",
        "y_hat = np.dot(np.transpose(d[\"w\"]),x)+d[\"b\"]\n",
        "plt.scatter(x, y,label='data')\n",
        "plt.plot(np.transpose(x),np.transpose(y_hat), color='red', linewidth=2, label='predicted')\n",
        "plt.title('Linear Regression')\n",
        "plt.xlabel('x')\n",
        "plt.ylabel('y')\n",
        "plt.legend()\n",
        "plt.show()"
      ],
      "execution_count": 229,
      "outputs": [
        {
          "output_type": "stream",
          "text": [
            "w = [[2.97722713]]\n",
            "b = 4.0095701597109175\n"
          ],
          "name": "stdout"
        },
        {
          "output_type": "display_data",
          "data": {
            "image/png": "[encoded data removed]",
            "text/plain": [
              "<Figure size 432x288 with 1 Axes>"
            ]
          },
          "metadata": {
            "tags": [],
            "needs_background": "light"
          }
        }
      ]
    },
    {
      "cell_type": "markdown",
      "metadata": {
        "id": "JRyNuGngioC4"
      },
      "source": [
        "##(Optioanal) multi-dimensional Linear Regression\n",
        "input data가 1차원일때 linear regression을 수행하면 데이터를 잘 표현하는 직선을 찾습니다. 만약 input data가 2차원이라면 평면을 찾게 됩니다. 추가 구현을 하고 싶은 학생들은 한번 구현해서 확인해 보세요."
      ]
    },
    {
      "cell_type": "code",
      "metadata": {
        "id": "J2O2u_rqeSjt",
        "colab": {
          "base_uri": "https://localhost:8080/",
          "height": 266
        },
        "outputId": "19995134-3a78-403c-9f19-1545add3b46d"
      },
      "source": [
        "X = np.random.rand(2000).reshape(2,1000)*60\n",
        "Y = np.array([X[0, :]*3+X[1, :]*4])\n",
        "\n",
        "fig = plt.figure()\n",
        "ax = fig.add_subplot(111, projection='3d')\n",
        "ax.scatter(X[0,:], X[1,:], Y, marker='.', color='red')\n",
        "ax.set_xlabel(\"X1\")\n",
        "ax.set_ylabel(\"X2\")\n",
        "ax.set_zlabel(\"y\")"
      ],
      "execution_count": 230,
      "outputs": [
        {
          "output_type": "execute_result",
          "data": {
            "text/plain": [
              "Text(0.5, 0, 'y')"
            ]
          },
          "metadata": {
            "tags": []
          },
          "execution_count": 230
        },
        {
          "output_type": "display_data",
          "data": {
            "image/png": "[encoded data removed]",
            "text/plain": [
              "<Figure size 432x288 with 1 Axes>"
            ]
          },
          "metadata": {
            "tags": [],
            "needs_background": "light"
          }
        }
      ]
    },
    {
      "cell_type": "code",
      "metadata": {
        "id": "TmfiqmK11Aq3"
      },
      "source": [
        ""
      ],
      "execution_count": 230,
      "outputs": []
    }
  ]
}